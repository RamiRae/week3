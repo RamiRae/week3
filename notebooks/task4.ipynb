{
 "cells": [
  {
   "cell_type": "code",
   "execution_count": 43,
   "metadata": {},
   "outputs": [],
   "source": [
    "import pandas as pd\n",
    "from sklearn.ensemble import RandomForestClassifier\n",
    "from sklearn.metrics import accuracy_score, classification_report\n",
    "from sklearn.impute import SimpleImputer\n",
    "from sklearn.preprocessing import OneHotEncoder\n",
    "from sklearn.model_selection import train_test_split\n",
    "from sklearn.ensemble import RandomForestRegressor\n",
    "from sklearn.linear_model import LinearRegression\n",
    "from xgboost import XGBRegressor\n",
    "from sklearn.metrics import mean_squared_error, r2_score, accuracy_score, precision_score, recall_score, f1_score, mean_absolute_error"
   ]
  },
  {
   "cell_type": "code",
   "execution_count": null,
   "metadata": {},
   "outputs": [],
   "source": [
    "data = pd.read_csv('MachineLearningRating_v3.csv')\n",
    "numeric_cols = data.select_dtypes(include=['number']).columns\n",
    "\n",
    "for col in numeric_cols:\n",
    "    mean = data[col].mean()\n",
    "    data[col].fillna(mean, inplace=True)\n",
    "\n",
    "# print(data.isnull().sum())\n",
    "categorical_cols = data.select_dtypes(include=['object']).columns\n",
    "categorical_imputer = SimpleImputer(strategy='most_frequent')\n",
    "data[categorical_cols] = categorical_imputer.fit_transform(data[categorical_cols])\n",
    "print(data.isnull().sum())"
   ]
  },
  {
   "cell_type": "code",
   "execution_count": null,
   "metadata": {},
   "outputs": [],
   "source": [
    "data['VehicleAge'] = 2024 - data['RegistrationYear']\n",
    "data['VehicleValue'] = data['SumInsured']  # Using SumInsured as a proxy\n",
    "data['CoverageDuration'] = data['TermFrequency']\n",
    "data['TermFrequency'] = data['TermFrequency'].replace('Annual', 12).replace('Monthly', 1).astype(float)\n",
    "data['PremiumPerMonth'] = data['CalculatedPremiumPerTerm'] / data['TermFrequency']\n",
    "\n",
    "data['VehicleAge_SumInsured'] = data['VehicleAge'] * data['SumInsured']\n",
    "data = pd.get_dummies(data, columns=['Province', 'CoverCategory'], drop_first=True)\n",
    "print(data.head())"
   ]
  },
  {
   "cell_type": "code",
   "execution_count": null,
   "metadata": {},
   "outputs": [],
   "source": [
    "categorical_cols = [\n",
    "    'TransactionMonth', 'Citizenship', 'LegalType', 'Title', 'Language', 'Bank', 'AccountType',\n",
    "    'MaritalStatus', 'Country', 'MainCrestaZone', 'SubCrestaZone', 'ItemType', 'mmcode',\n",
    "    'VehicleType', 'make', 'Model', 'bodytype',  'CoverType', 'CoverGroup',\n",
    "    'Section', 'Product', 'StatutoryClass', 'StatutoryRiskType'\n",
    "]\n",
    "\n",
    "\n",
    "data = pd.get_dummies(data, columns=categorical_cols, prefix_sep='_')\n",
    "\n",
    "print(data.head())"
   ]
  },
  {
   "cell_type": "code",
   "execution_count": 28,
   "metadata": {},
   "outputs": [],
   "source": [
    "data_train, data_test = train_test_split(data, test_size=0.2, random_state=42)"
   ]
  },
  {
   "cell_type": "code",
   "execution_count": null,
   "metadata": {},
   "outputs": [],
   "source": [
    "for column in data.columns:\n",
    "    if data[column].dtype == 'object':\n",
    "        data[column] = pd.to_numeric(data[column], errors='coerce').fillna(0)\n",
    "\n",
    "\n",
    "\n",
    "X = data.drop(\"TotalClaims\", axis=1)  # Change column name here\n",
    "y = data[\"TotalClaims\"]  # Change column name here\n",
    "\n",
    "# Split the data into training and testing sets (20/80 ratio)\n",
    "X_train, X_test, y_train, y_test = train_test_split(X, y, test_size=0.2, random_state=42)\n",
    "\n",
    "# 1. Linear Regression\n",
    "lr_model = LinearRegression()\n",
    "lr_model.fit(X_train, y_train)\n",
    "lr_predictions = lr_model.predict(X_test)\n",
    "lr_mse = mean_squared_error(y_test, lr_predictions)\n",
    "lr_rmse = mean_squared_error(y_test, lr_predictions, squared=False)  # RMSE\n",
    "lr_r2 = r2_score(y_test, lr_predictions)\n",
    "lr_mae = mean_absolute_error(y_test, lr_predictions)\n",
    "\n",
    "# 2. Random Forest\n",
    "rf_model = RandomForestRegressor(random_state=42)\n",
    "rf_model.fit(X_train, y_train)\n",
    "rf_predictions = rf_model.predict(X_test)\n",
    "rf_mse = mean_squared_error(y_test, rf_predictions)\n",
    "rf_rmse = mean_squared_error(y_test, rf_predictions, squared=False)  # RMSE\n",
    "rf_r2 = r2_score(y_test, rf_predictions)\n",
    "rf_mae = mean_absolute_error(y_test, rf_predictions)\n",
    "\n",
    "# 3. XGBoost\n",
    "xgb_model = XGBRegressor(random_state=42)\n",
    "xgb_model.fit(X_train, y_train)\n",
    "xgb_predictions = xgb_model.predict(X_test)\n",
    "xgb_mse = mean_squared_error(y_test, xgb_predictions)\n",
    "xgb_rmse = mean_squared_error(y_test, xgb_predictions, squared=False)  # RMSE\n",
    "xgb_r2 = r2_score(y_test, xgb_predictions)\n",
    "xgb_mae = mean_absolute_error(y_test, xgb_predictions)\n",
    "\n",
    "# Evaluate each model\n",
    "def evaluate_model(model_name, predictions):\n",
    "    print(f\"\\n{model_name}:\")\n",
    "    print(f\"  Mean Squared Error: {mean_squared_error(y_test, predictions):.2f}\")\n",
    "    print(f\"  Root Mean Squared Error: {mean_squared_error(y_test, predictions, squared=False):.2f}\")\n",
    "    print(f\"  R-squared: {r2_score(y_test, predictions):.2f}\")\n",
    "    print(f\"  Mean Absolute Error: {mean_absolute_error(y_test, predictions):.2f}\")\n",
    "\n",
    "evaluate_model(\"Linear Regression\", lr_predictions)\n",
    "evaluate_model(\"Random Forest\", rf_predictions)\n",
    "evaluate_model(\"XGBoost\", xgb_predictions)\n"
   ]
  },
  {
   "cell_type": "code",
   "execution_count": null,
   "metadata": {},
   "outputs": [],
   "source": [
    "data = data.sample(frac=0.07, random_state=42) \n",
    "X = data.drop(\"TotalClaims\", axis=1)  # Replace \"Retention\" with your target column\n",
    "y = data[\"TotalClaims\"]\n",
    " \n",
    "# Split data\n",
    "X_train, X_test, y_train, y_test = train_test_split(X, y, test_size=0.2, random_state=42)\n",
    "\n",
    "# Train the model\n",
    "rf_model = RandomForestRegressor(random_state=42)\n",
    "rf_model.fit(X_train, y_train)\n",
    "\n",
    "# Evaluate the model\n",
    "y_pred = rf_model.predict(X_test)\n",
    "print(f\"Accuracy: {accuracy_score(y_test, y_pred):.2f}\")\n",
    "print(classification_report(y_test, y_pred))\n",
    "\n",
    "# Get feature importance scores\n",
    "feature_importances = rf_model.feature_importances_\n",
    "feature_names = X.columns\n",
    "\n",
    "# Create a DataFrame for easier viewing\n",
    "importance_df = pd.DataFrame({'Feature': feature_names, 'Importance': feature_importances})\n",
    "importance_df = importance_df.sort_values(by='Importance', ascending=False)\n",
    "print(importance_df)"
   ]
  }
 ],
 "metadata": {
  "kernelspec": {
   "display_name": "Python 3",
   "language": "python",
   "name": "python3"
  },
  "language_info": {
   "codemirror_mode": {
    "name": "ipython",
    "version": 3
   },
   "file_extension": ".py",
   "mimetype": "text/x-python",
   "name": "python",
   "nbconvert_exporter": "python",
   "pygments_lexer": "ipython3",
   "version": "3.12.4"
  }
 },
 "nbformat": 4,
 "nbformat_minor": 2
}
